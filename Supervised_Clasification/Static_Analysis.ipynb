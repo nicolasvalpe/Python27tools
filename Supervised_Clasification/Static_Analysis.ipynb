{
 "cells": [
  {
   "cell_type": "markdown",
   "metadata": {},
   "source": [
    "# Statical Analysis for Coverage Land"
   ]
  },
  {
   "cell_type": "code",
   "execution_count": 16,
   "metadata": {},
   "outputs": [
    {
     "data": {
      "text/html": [
       "<div>\n",
       "<style scoped>\n",
       "    .dataframe tbody tr th:only-of-type {\n",
       "        vertical-align: middle;\n",
       "    }\n",
       "\n",
       "    .dataframe tbody tr th {\n",
       "        vertical-align: top;\n",
       "    }\n",
       "\n",
       "    .dataframe thead th {\n",
       "        text-align: right;\n",
       "    }\n",
       "</style>\n",
       "<table border=\"1\" class=\"dataframe\">\n",
       "  <thead>\n",
       "    <tr style=\"text-align: right;\">\n",
       "      <th></th>\n",
       "      <th>Clase</th>\n",
       "      <th>GLI_index1</th>\n",
       "      <th>RGBVI_inde</th>\n",
       "      <th>geometry</th>\n",
       "    </tr>\n",
       "  </thead>\n",
       "  <tbody>\n",
       "    <tr>\n",
       "      <th>0</th>\n",
       "      <td>Burning area</td>\n",
       "      <td>-0.276190</td>\n",
       "      <td>-0.276190</td>\n",
       "      <td>POINT (4857765.670 2073059.295)</td>\n",
       "    </tr>\n",
       "    <tr>\n",
       "      <th>1</th>\n",
       "      <td>Burning area</td>\n",
       "      <td>-0.060000</td>\n",
       "      <td>-0.060000</td>\n",
       "      <td>POINT (4858244.866 2072955.509)</td>\n",
       "    </tr>\n",
       "    <tr>\n",
       "      <th>2</th>\n",
       "      <td>Burning area</td>\n",
       "      <td>0.011407</td>\n",
       "      <td>0.011407</td>\n",
       "      <td>POINT (4858312.910 2072943.987)</td>\n",
       "    </tr>\n",
       "    <tr>\n",
       "      <th>3</th>\n",
       "      <td>Burning area</td>\n",
       "      <td>-0.139785</td>\n",
       "      <td>-0.139785</td>\n",
       "      <td>POINT (4857938.260 2072798.225)</td>\n",
       "    </tr>\n",
       "    <tr>\n",
       "      <th>4</th>\n",
       "      <td>Burning area</td>\n",
       "      <td>-0.091575</td>\n",
       "      <td>-0.091575</td>\n",
       "      <td>POINT (4857737.081 2072672.812)</td>\n",
       "    </tr>\n",
       "  </tbody>\n",
       "</table>\n",
       "</div>"
      ],
      "text/plain": [
       "          Clase  GLI_index1  RGBVI_inde                         geometry\n",
       "0  Burning area   -0.276190   -0.276190  POINT (4857765.670 2073059.295)\n",
       "1  Burning area   -0.060000   -0.060000  POINT (4858244.866 2072955.509)\n",
       "2  Burning area    0.011407    0.011407  POINT (4858312.910 2072943.987)\n",
       "3  Burning area   -0.139785   -0.139785  POINT (4857938.260 2072798.225)\n",
       "4  Burning area   -0.091575   -0.091575  POINT (4857737.081 2072672.812)"
      ]
     },
     "execution_count": 16,
     "metadata": {},
     "output_type": "execute_result"
    }
   ],
   "source": [
    "import numpy as np\n",
    "import geopandas as gpd\n",
    "import pandas as pd\n",
    "clases=r\"C:\\Users\\NicolasViasus\\Documents\\Temporales_NV\\Cerro Gordo\\1 Shp\\Clases.shp\"\n",
    "clases=gpd.read_file(clases)\n",
    "clases.head()"
   ]
  },
  {
   "cell_type": "code",
   "execution_count": 17,
   "metadata": {},
   "outputs": [
    {
     "data": {
      "text/html": [
       "<div>\n",
       "<style scoped>\n",
       "    .dataframe tbody tr th:only-of-type {\n",
       "        vertical-align: middle;\n",
       "    }\n",
       "\n",
       "    .dataframe tbody tr th {\n",
       "        vertical-align: top;\n",
       "    }\n",
       "\n",
       "    .dataframe thead th {\n",
       "        text-align: right;\n",
       "    }\n",
       "</style>\n",
       "<table border=\"1\" class=\"dataframe\">\n",
       "  <thead>\n",
       "    <tr style=\"text-align: right;\">\n",
       "      <th></th>\n",
       "      <th>Clase</th>\n",
       "      <th>Burning area</th>\n",
       "      <th>Unburned</th>\n",
       "    </tr>\n",
       "  </thead>\n",
       "  <tbody>\n",
       "    <tr>\n",
       "      <th rowspan=\"8\" valign=\"top\">GLI_index1</th>\n",
       "      <th>count</th>\n",
       "      <td>29.000000</td>\n",
       "      <td>27.000000</td>\n",
       "    </tr>\n",
       "    <tr>\n",
       "      <th>mean</th>\n",
       "      <td>-0.079271</td>\n",
       "      <td>0.065623</td>\n",
       "    </tr>\n",
       "    <tr>\n",
       "      <th>std</th>\n",
       "      <td>0.089261</td>\n",
       "      <td>0.093418</td>\n",
       "    </tr>\n",
       "    <tr>\n",
       "      <th>min</th>\n",
       "      <td>-0.413333</td>\n",
       "      <td>-0.130435</td>\n",
       "    </tr>\n",
       "    <tr>\n",
       "      <th>25%</th>\n",
       "      <td>-0.099338</td>\n",
       "      <td>0.003311</td>\n",
       "    </tr>\n",
       "    <tr>\n",
       "      <th>50%</th>\n",
       "      <td>-0.065990</td>\n",
       "      <td>0.048035</td>\n",
       "    </tr>\n",
       "    <tr>\n",
       "      <th>75%</th>\n",
       "      <td>-0.028249</td>\n",
       "      <td>0.112457</td>\n",
       "    </tr>\n",
       "    <tr>\n",
       "      <th>max</th>\n",
       "      <td>0.024259</td>\n",
       "      <td>0.301695</td>\n",
       "    </tr>\n",
       "    <tr>\n",
       "      <th rowspan=\"8\" valign=\"top\">RGBVI_inde</th>\n",
       "      <th>count</th>\n",
       "      <td>29.000000</td>\n",
       "      <td>27.000000</td>\n",
       "    </tr>\n",
       "    <tr>\n",
       "      <th>mean</th>\n",
       "      <td>-0.079271</td>\n",
       "      <td>0.065623</td>\n",
       "    </tr>\n",
       "    <tr>\n",
       "      <th>std</th>\n",
       "      <td>0.089261</td>\n",
       "      <td>0.093418</td>\n",
       "    </tr>\n",
       "    <tr>\n",
       "      <th>min</th>\n",
       "      <td>-0.413333</td>\n",
       "      <td>-0.130435</td>\n",
       "    </tr>\n",
       "    <tr>\n",
       "      <th>25%</th>\n",
       "      <td>-0.099338</td>\n",
       "      <td>0.003311</td>\n",
       "    </tr>\n",
       "    <tr>\n",
       "      <th>50%</th>\n",
       "      <td>-0.065990</td>\n",
       "      <td>0.048035</td>\n",
       "    </tr>\n",
       "    <tr>\n",
       "      <th>75%</th>\n",
       "      <td>-0.028249</td>\n",
       "      <td>0.112457</td>\n",
       "    </tr>\n",
       "    <tr>\n",
       "      <th>max</th>\n",
       "      <td>0.024259</td>\n",
       "      <td>0.301695</td>\n",
       "    </tr>\n",
       "  </tbody>\n",
       "</table>\n",
       "</div>"
      ],
      "text/plain": [
       "Clase             Burning area   Unburned\n",
       "GLI_index1 count     29.000000  27.000000\n",
       "           mean      -0.079271   0.065623\n",
       "           std        0.089261   0.093418\n",
       "           min       -0.413333  -0.130435\n",
       "           25%       -0.099338   0.003311\n",
       "           50%       -0.065990   0.048035\n",
       "           75%       -0.028249   0.112457\n",
       "           max        0.024259   0.301695\n",
       "RGBVI_inde count     29.000000  27.000000\n",
       "           mean      -0.079271   0.065623\n",
       "           std        0.089261   0.093418\n",
       "           min       -0.413333  -0.130435\n",
       "           25%       -0.099338   0.003311\n",
       "           50%       -0.065990   0.048035\n",
       "           75%       -0.028249   0.112457\n",
       "           max        0.024259   0.301695"
      ]
     },
     "execution_count": 17,
     "metadata": {},
     "output_type": "execute_result"
    }
   ],
   "source": [
    "grouped_stats=clases.groupby(\"Clase\").describe()\n",
    "clases1=grouped_stats.transpose()\n",
    "clases1"
   ]
  },
  {
   "cell_type": "code",
   "execution_count": 18,
   "metadata": {},
   "outputs": [
    {
     "name": "stdout",
     "output_type": "stream",
     "text": [
      "                   mean        std        min        max\n",
      "             GLI_index1 GLI_index1 GLI_index1 GLI_index1\n",
      "Clase                                                   \n",
      "Burning area  -0.079271   0.089261  -0.413333   0.024259\n",
      "Unburned       0.065623   0.093418  -0.130435   0.301695\n"
     ]
    }
   ],
   "source": [
    "# Supongamos que tienes un DataFrame llamado 'df' con una columna 'Burn_Status' y otras columnas numéricas.\n",
    "\n",
    "# Crea la tabla dinámica utilizando pivot_table\n",
    "pivot_table_stats = clases.pivot_table(index='Clase',values='GLI_index1',aggfunc=['mean', 'std','min','max'])\n",
    "\n",
    "# Reemplaza 'columna1', 'columna2', y 'columna3' con los nombres reales de las columnas numéricas en tu DataFrame.\n",
    "\n",
    "# Mostrar la tabla dinámica resultante\n",
    "print(pivot_table_stats)\n"
   ]
  },
  {
   "cell_type": "code",
   "execution_count": 19,
   "metadata": {},
   "outputs": [
    {
     "data": {
      "image/png": "[encoded data removed]",
      "text/plain": [
       "<Figure size 1000x600 with 1 Axes>"
      ]
     },
     "metadata": {},
     "output_type": "display_data"
    }
   ],
   "source": [
    "import pandas as pd\n",
    "import matplotlib.pyplot as plt\n",
    "\n",
    "# Supongamos que ya tienes la tabla dinámica \"pivot_table_stats\" creada en el paso anterior.\n",
    "\n",
    "# Extraer las estadísticas de la tabla dinámica\n",
    "stats_unburned = pivot_table_stats.loc[\"Unburned\"]\n",
    "stats_burning_area = pivot_table_stats.loc[\"Burning area\"]\n",
    "\n",
    "# Crear un histograma para cada categoría en la columna \"Clase\"\n",
    "plt.figure(figsize=(10, 6))  # Tamaño de la figura\n",
    "\n",
    "# Histograma para \"unburned\"\n",
    "plt.hist(clases[clases['Clase'] == 'Unburned']['GLI_index1'], bins=20, alpha=0.5, label='Vegetación')\n",
    "\n",
    "# Histograma para \"Burning area\"\n",
    "plt.hist(clases[clases['Clase'] == 'Burning area']['GLI_index1'], bins=20, alpha=0.5, label='Area afectada')\n",
    "\n",
    "# Configuraciones del gráfico\n",
    "plt.title('Distribución de GLI por categoría')\n",
    "plt.xlabel('GLI')\n",
    "plt.ylabel('Frecuencia')\n",
    "plt.legend()\n",
    "\n",
    "# Mostrar el histograma\n",
    "plt.show()\n"
   ]
  },
  {
   "cell_type": "code",
   "execution_count": 20,
   "metadata": {},
   "outputs": [
    {
     "data": {
      "image/png": "[encoded data removed]",
      "text/plain": [
       "<Figure size 1000x600 with 1 Axes>"
      ]
     },
     "metadata": {},
     "output_type": "display_data"
    }
   ],
   "source": [
    "import pandas as pd\n",
    "import matplotlib.pyplot as plt\n",
    "\n",
    "\n",
    "# Supongamos que ya tienes la tabla dinámica \"pivot_table_stats\" creada en el paso anterior.\n",
    "\n",
    "# Extraer los datos de la tabla dinámica\n",
    "data_unburned = pivot_table_stats.loc[\"Unburned\"]\n",
    "data_burning_area = pivot_table_stats.loc[\"Burning area\"]\n",
    "\n",
    "# Convertir los datos a listas para el gráfico boxplot\n",
    "data_unburned_list = data_unburned.values.tolist()\n",
    "data_burning_area_list = data_burning_area.values.tolist()\n",
    "\n",
    "# Crear un gráfico de boxplot para ambas categorías\n",
    "plt.figure(figsize=(10, 6))  # Tamaño de la figura\n",
    "\n",
    "# Boxplot para \"unburned\"\n",
    "plt.boxplot(data_unburned_list, positions=[1], labels=['Vegetación'])\n",
    "\n",
    "# Boxplot para \"Burning area\"\n",
    "plt.boxplot(data_burning_area_list, positions=[2], labels=['Area afectada'])\n",
    "\n",
    "# Configuraciones del gráfico\n",
    "plt.title('indice GLI por categoría')\n",
    "plt.ylabel('GLI')\n",
    "plt.grid(True, axis='y')  # Mostrar una cuadrícula horizontal\n",
    "plt.xticks([1, 2], ['Vegetación ', 'Area afectada'])  # Etiquetas para el eje x\n",
    "\n",
    "\n",
    "# Mostrar el gráfico de boxplot\n",
    "plt.show()\n",
    "\n",
    "\n",
    "\n"
   ]
  },
  {
   "cell_type": "markdown",
   "metadata": {},
   "source": [
    "## RGBVI"
   ]
  },
  {
   "cell_type": "code",
   "execution_count": 22,
   "metadata": {},
   "outputs": [
    {
     "name": "stdout",
     "output_type": "stream",
     "text": [
      "                   mean        std        min        max\n",
      "             RGBVI_inde RGBVI_inde RGBVI_inde RGBVI_inde\n",
      "Clase                                                   \n",
      "Burning area  -0.079271   0.089261  -0.413333   0.024259\n",
      "Unburned       0.065623   0.093418  -0.130435   0.301695\n"
     ]
    }
   ],
   "source": [
    "# Supongamos que tienes un DataFrame llamado 'df' con una columna 'Burn_Status' y otras columnas numéricas.\n",
    "\n",
    "# Crea la tabla dinámica utilizando pivot_table\n",
    "pivot_table_stats = clases.pivot_table(index='Clase',values='RGBVI_inde',aggfunc=['mean', 'std','min','max'])\n",
    "\n",
    "# Reemplaza 'columna1', 'columna2', y 'columna3' con los nombres reales de las columnas numéricas en tu DataFrame.\n",
    "\n",
    "# Mostrar la tabla dinámica resultante\n",
    "print(pivot_table_stats)\n"
   ]
  },
  {
   "cell_type": "code",
   "execution_count": 23,
   "metadata": {},
   "outputs": [
    {
     "data": {
      "image/png": "[encoded data removed]",
      "text/plain": [
       "<Figure size 1000x600 with 1 Axes>"
      ]
     },
     "metadata": {},
     "output_type": "display_data"
    }
   ],
   "source": [
    "import pandas as pd\n",
    "import matplotlib.pyplot as plt\n",
    "\n",
    "# Supongamos que ya tienes la tabla dinámica \"pivot_table_stats\" creada en el paso anterior.\n",
    "\n",
    "# Extraer las estadísticas de la tabla dinámica\n",
    "stats_unburned = pivot_table_stats.loc[\"Unburned\"]\n",
    "stats_burning_area = pivot_table_stats.loc[\"Burning area\"]\n",
    "\n",
    "# Crear un histograma para cada categoría en la columna \"Clase\"\n",
    "plt.figure(figsize=(10, 6))  # Tamaño de la figura\n",
    "\n",
    "# Histograma para \"unburned\"\n",
    "plt.hist(clases[clases['Clase'] == 'Unburned']['GLI_index1'], bins=20, alpha=0.5, label='Vegetación')\n",
    "\n",
    "# Histograma para \"Burning area\"\n",
    "plt.hist(clases[clases['Clase'] == 'Burning area']['GLI_index1'], bins=20, alpha=0.5, label='Area afectada')\n",
    "\n",
    "# Configuraciones del gráfico\n",
    "plt.title('Distribución de GLI por categoría')\n",
    "plt.xlabel('RGBVI')\n",
    "plt.ylabel('Frecuencia')\n",
    "plt.legend()\n",
    "\n",
    "# Mostrar el histograma\n",
    "plt.show()\n"
   ]
  }
 ],
 "metadata": {
  "kernelspec": {
   "display_name": "mda",
   "language": "python",
   "name": "python3"
  },
  "language_info": {
   "codemirror_mode": {
    "name": "ipython",
    "version": 3
   },
   "file_extension": ".py",
   "mimetype": "text/x-python",
   "name": "python",
   "nbconvert_exporter": "python",
   "pygments_lexer": "ipython3",
   "version": "3.7.13"
  },
  "orig_nbformat": 4
 },
 "nbformat": 4,
 "nbformat_minor": 2
}
