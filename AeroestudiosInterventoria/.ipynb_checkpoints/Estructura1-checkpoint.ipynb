{
 "cells": [
  {
   "cell_type": "markdown",
   "metadata": {},
   "source": [
    "# REPORTE INTERVENTORIA AEROESTUDIOS GNSS"
   ]
  },
  {
   "cell_type": "code",
   "execution_count": 5,
   "metadata": {},
   "outputs": [],
   "source": [
    "import os; import pandas as pd;import geopandas as gpd;import glob;import re"
   ]
  },
  {
   "cell_type": "code",
   "execution_count": 7,
   "metadata": {},
   "outputs": [
    {
     "name": "stdout",
     "output_type": "stream",
     "text": [
      "$~ -----> Carpetas\n",
      "['Coordenadas_sirgas', 'Informe', 'Modelo_geoidal', 'Rural-Calidad', 'Urbano-Calidad', 'Urbano-Fotocontrol']\n",
      "                    0\n",
      "0  Coordenadas_sirgas\n",
      "1             Informe\n",
      "2      Modelo_geoidal\n",
      "3       Rural-Calidad\n",
      "4      Urbano-Calidad\n",
      "5  Urbano-Fotocontrol\n"
     ]
    }
   ],
   "source": [
    "#paths \n",
    "mun=\"\\\\Angelopolis\"\n",
    "fmun=r\"D:\\PROYECTOS 2023\\AEROESTUDIOS\\INTERVENTORIA GNSS\\Municipios\"\n",
    "fRev=r\"D:\\PROYECTOS 2023\\AEROESTUDIOS\\INTERVENTORIA GNSS\\Revisión\"\n",
    "\n",
    "fmun=fmun+mun\n",
    "#folders\n",
    "print(\"$~ -----> Carpetas\")\n",
    "folders=os.listdir(fmun)\n",
    "print(folders)\n",
    "carpetas=pd.DataFrame(folders)\n",
    "print(carpetas)\n"
   ]
  },
  {
   "cell_type": "markdown",
   "metadata": {},
   "source": [
    "### Coordenadas Sirgas"
   ]
  },
  {
   "cell_type": "code",
   "execution_count": 8,
   "metadata": {},
   "outputs": [
    {
     "name": "stdout",
     "output_type": "stream",
     "text": [
      "$~ -----> Coordenadas sirgas\n",
      "sir22P2223.crd\n"
     ]
    }
   ],
   "source": [
    "#coordenadas Sirgas\n",
    "print(\"$~ -----> Coordenadas sirgas\")\n",
    "for filename in glob.iglob(fmun+\"\\\\Coordenadas_sirgas\\\\*.*\"):\n",
    "    print(filename.split(\"\\\\Coordenadas_sirgas\\\\\")[1])"
   ]
  },
  {
   "cell_type": "markdown",
   "metadata": {},
   "source": [
    "### Informe"
   ]
  },
  {
   "cell_type": "code",
   "execution_count": 9,
   "metadata": {},
   "outputs": [
    {
     "name": "stdout",
     "output_type": "stream",
     "text": [
      "$~ -----> Informe\n",
      "Informe tecnico fotocontrol y comprobacion V3 Angelópolis.pdf\n"
     ]
    }
   ],
   "source": [
    "#informe\n",
    "print(\"$~ -----> Informe\")\n",
    "for filename in glob.iglob(fmun+\"\\\\Informe\\\\*.*\"):\n",
    "    print(filename.split(\"\\\\Informe\\\\\")[1])"
   ]
  }
 ],
 "metadata": {
  "kernelspec": {
   "display_name": "Python 3 (ipykernel)",
   "language": "python",
   "name": "python3"
  },
  "language_info": {
   "codemirror_mode": {
    "name": "ipython",
    "version": 3
   },
   "file_extension": ".py",
   "mimetype": "text/x-python",
   "name": "python",
   "nbconvert_exporter": "python",
   "pygments_lexer": "ipython3",
   "version": "3.7.13"
  }
 },
 "nbformat": 4,
 "nbformat_minor": 2
}
