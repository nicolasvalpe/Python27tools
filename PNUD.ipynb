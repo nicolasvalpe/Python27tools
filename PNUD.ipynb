{
 "cells": [
  {
   "cell_type": "markdown",
   "metadata": {},
   "source": [
    "# PNUD FLYNORTH"
   ]
  },
  {
   "cell_type": "markdown",
   "metadata": {},
   "source": [
    "----\n",
    "### Dato Primario"
   ]
  },
  {
   "cell_type": "code",
   "execution_count": 1,
   "metadata": {},
   "outputs": [],
   "source": [
    "import pandas as pd\n",
    "import warnings\n",
    "warnings.simplefilter(action=\"ignore\", category=pd.core.common.SettingWithCopyWarning)\n",
    "\n",
    "dir=r\"D:\\PROYECTOS 2024\\PNUD\\BOLIVAR\\MADRID\\8. Listado de coordenadas\"\n",
    "RA=\"17/09/2024\"\n",
    "Nombre=\"\\\\13430017-MADRID\"\n",
    "\n",
    "\n",
    "df=pd.read_csv(dir+\"\\\\ptos.csv\",sep=',',encoding='latin1')\n",
    "df1=df[['Point Id','WGS84 Latitude [°]','WGS84 Longitude [°]','WGS84 Ellip. Height [m]','WGS84 Cartesian X [m]','WGS84 Cartesian Y [m]','WGS84 Cartesian Z [m]','Northing [m]','Easting [m]']]\n",
    "df1[\"WGS84 Latitude [°]\"] = df1[\"WGS84 Latitude [°]\"].str.replace(\"° N\", \"\")\n",
    "df1[\"WGS84 Longitude [°]\"] = df1[\"WGS84 Longitude [°]\"].str.replace(\"° W\", \"\")\n",
    "df1[\"WGS84 Latitude [°]\"]=df1['WGS84 Latitude [°]'].astype(float)\n",
    "df1[\"WGS84 Longitude [°]\"]=df1['WGS84 Longitude [°]'].astype(float)\n",
    "df1[\"WGS84 Longitude [°]\"] = df1[\"WGS84 Longitude [°]\"]* -1\n",
    "df1.to_csv(dir+\"\\\\Data2024.csv\",index=False)\n",
    "### CAMBIO DE EPOCA\n",
    "dfEpoca=df1[['Point Id','WGS84 Cartesian X [m]','WGS84 Cartesian Y [m]','WGS84 Cartesian Z [m]']]\n",
    "dfEpoca['RA']=dfEpoca[\"RA\"]=RA\n",
    "dfEpoca['RE']=dfEpoca[\"RE\"]=\"01/01/2018\"\n",
    "dfEpoca.to_csv(r\"D:\\PROYECTOS 2024\\PNUD\\Epoca.csv\",index=False)"
   ]
  },
  {
   "cell_type": "markdown",
   "metadata": {},
   "source": [
    "---\n",
    "### Ondulacion\n",
    "### Dataframe 2018"
   ]
  },
  {
   "cell_type": "code",
   "execution_count": 2,
   "metadata": {},
   "outputs": [],
   "source": [
    "import rasterio\n",
    "\n",
    "# Abrir el archivo raster\n",
    "raster_path = r\"D:\\Cartografia\\GEOCOL_2004\\GEOCOLCTM12.tif\"            #GEOCOL TIFF\n",
    "raster = rasterio.open(raster_path)\n",
    "dfCTM12=pd.read_csv(dir+\"\\\\12.csv\")\n",
    "\n",
    "from rasterio.sample import sample_gen\n",
    "\n",
    "# Crear una lista de coordenadas (X, Y)\n",
    "coordinates = list(zip(dfCTM12[\"Este\"], dfCTM12[\"Norte\"]))\n",
    "\n",
    "# Extraer valores del raster para cada coordenada\n",
    "values = []\n",
    "for coord in coordinates:\n",
    "    try:\n",
    "        # Convertir la coordenada a valor del raster\n",
    "        value = list(raster.sample([coord]))[0][0]\n",
    "    except IndexError:\n",
    "        value = None  # Manejar valores fuera del rango del raster\n",
    "    values.append(value)\n",
    "\n",
    "# Añadir los valores al DataFrame\n",
    "dfCTM12[\"RasterValue\"] = values\n",
    "output_path = dir+\"\\\\n.csv\"\n",
    "dfCTM12.to_csv(output_path, index=False)\n",
    "\n",
    "#### Dataframe 2018\n",
    "import pandas as pd\n",
    "\n",
    "d12=pd.read_csv(dir+\"\\\\12.csv\")\n",
    "d84=pd.read_csv(dir+\"\\\\84.csv\")\n",
    "dxyz=pd.read_csv(dir+\"\\\\xyz.csv\")\n",
    "\n",
    "\n",
    "d12_s = d12[[\"ID\", \"Norte\",\"Este\"]]\n",
    "d84_s = d84[[\"ID\", \"Latitud\",\"Longitud\",\"Altura_Elipsoidal\"]]\n",
    "dxyz_s = dxyz[[\"ID\", \"X\",\"Y\",\"Z\"]]\n",
    "dn_s=dfCTM12[[\"ID\",\"RasterValue\"]]\n",
    "\n",
    "merged_df = (\n",
    "    d84_s\n",
    "    .merge(dxyz_s, on=\"ID\", how=\"inner\")\n",
    "    .merge(d12_s, on=\"ID\", how=\"inner\")\n",
    "    .merge(dn_s, on=\"ID\", how=\"inner\")\n",
    ")\n",
    "\n",
    "# Guardar el DataFrame combinado en un archivo CSV\n",
    "output_path = dir + \"\\\\data2018.csv\"\n",
    "df1[\"N\"]=merged_df[\"RasterValue\"]\n",
    "merged_df.to_csv(output_path, index=False)\n",
    "df1.to_csv(dir+\"\\\\Data2024.csv\", index=False)\n"
   ]
  },
  {
   "cell_type": "markdown",
   "metadata": {},
   "source": [
    "---\n",
    "### Archivo Geografico"
   ]
  },
  {
   "cell_type": "code",
   "execution_count": 3,
   "metadata": {},
   "outputs": [
    {
     "name": "stderr",
     "output_type": "stream",
     "text": [
      "c:\\ProgramData\\anaconda3\\envs\\entorno37_20240321\\lib\\site-packages\\ipykernel_launcher.py:70: UserWarning: Column names longer than 10 characters will be truncated when saved to ESRI Shapefile.\n"
     ]
    }
   ],
   "source": [
    "import os \n",
    "import geopandas as gpd\n",
    "from shapely.geometry import Point\n",
    "\n",
    "Nombre=Nombre\n",
    "dir9= dir.replace(\"8. Listado de coordenadas\", \"9. Archivo Geográfico\")\n",
    "df_Geo=pd.DataFrame()\n",
    "df_Geo=merged_df[[\"ID\",\"Norte\",\"Este\",\"Altura_Elipsoidal\",\"RasterValue\"]]\n",
    "df_Geo[\"ALTURA ORTOMETRICA\"]=df_Geo[\"Altura_Elipsoidal\"]-df_Geo[\"RasterValue\"]\n",
    "df_Geo=df_Geo.drop(columns=[\"RasterValue\"])\n",
    "df_Geo = df_Geo.rename(columns={'ID': 'Nombre', 'Norte': 'Norte (m)', 'Este': 'Este (m)', 'Altura_Elipsoidal': 'Altura Elipsoidal'})\n",
    "\n",
    "\n",
    "\n",
    "for archivo in os.listdir(dir9):\n",
    "    ruta_archivo = os.path.join(dir9, archivo)\n",
    "    if os.path.isfile(ruta_archivo):  # Verifica si es un archivo\n",
    "        os.remove(ruta_archivo)  # Elimina el archivo\n",
    "\n",
    "df_Geo.to_csv(dir9+Nombre+\".csv\",index=False)\n",
    "\n",
    "df_Geo['geometry'] = df_Geo.apply(lambda row: Point(row['Este (m)'], row['Norte (m)']), axis=1)\n",
    "gdf = gpd.GeoDataFrame(df_Geo, geometry='geometry')\n",
    "\n",
    "# WKT \n",
    "crs_9377 = (\n",
    "    \"PROJCRS[\\\"MAGNA-SIRGAS 2018 / Origen-Nacional\\\",\"\n",
    "    \"    BASEGEOGCRS[\\\"MAGNA-SIRGAS 2018\\\",\"\n",
    "    \"        DATUM[\\\"Marco Geocentrico Nacional de Referencia 2018\\\",\"\n",
    "    \"            ELLIPSOID[\\\"GRS 1980\\\",6378137,298.257222101,\"\n",
    "    \"                LENGTHUNIT[\\\"metre\\\",1]]],\"\n",
    "    \"        PRIMEM[\\\"Greenwich\\\",0,\"\n",
    "    \"            ANGLEUNIT[\\\"degree\\\",0.0174532925199433]],\"\n",
    "    \"        ID[\\\"EPSG\\\",20046]],\"\n",
    "    \"    CONVERSION[\\\"Colombia Transverse Mercator\\\",\"\n",
    "    \"        METHOD[\\\"Transverse Mercator\\\",\"\n",
    "    \"            ID[\\\"EPSG\\\",9807]],\"\n",
    "    \"        PARAMETER[\\\"Latitude of natural origin\\\",4,\"\n",
    "    \"            ANGLEUNIT[\\\"degree\\\",0.0174532925199433],\"\n",
    "    \"            ID[\\\"EPSG\\\",8801]],\"\n",
    "    \"        PARAMETER[\\\"Longitude of natural origin\\\",-73,\"\n",
    "    \"            ANGLEUNIT[\\\"degree\\\",0.0174532925199433],\"\n",
    "    \"            ID[\\\"EPSG\\\",8802]],\"\n",
    "    \"        PARAMETER[\\\"Scale factor at natural origin\\\",0.9992,\"\n",
    "    \"            SCALEUNIT[\\\"unity\\\",1],\"\n",
    "    \"            ID[\\\"EPSG\\\",8805]],\"\n",
    "    \"        PARAMETER[\\\"False easting\\\",5000000,\"\n",
    "    \"            LENGTHUNIT[\\\"metre\\\",1],\"\n",
    "    \"            ID[\\\"EPSG\\\",8806]],\"\n",
    "    \"        PARAMETER[\\\"False northing\\\",2000000,\"\n",
    "    \"            LENGTHUNIT[\\\"metre\\\",1],\"\n",
    "    \"            ID[\\\"EPSG\\\",8807]]],\"\n",
    "    \"    CS[Cartesian,2],\"\n",
    "    \"        AXIS[\\\"northing (N)\\\",north,\"\n",
    "    \"            ORDER[1],\"\n",
    "    \"            LENGTHUNIT[\\\"metre\\\",1]],\"\n",
    "    \"        AXIS[\\\"easting (E)\\\",east,\"\n",
    "    \"            ORDER[2],\"\n",
    "    \"            LENGTHUNIT[\\\"metre\\\",1]],\"\n",
    "    \"    USAGE[\"\n",
    "    \"        SCOPE[\\\"Cadastre, topographic mapping.\\\"],\"\n",
    "    \"        AREA[\\\"Colombia - onshore and offshore. Includes San Andres y Providencia, Malpelo Islands, Roncador Bank, Serrana Bank and Serranilla Bank.\\\"],\"\n",
    "    \"        BBOX[-4.23,-84.77,15.51,-66.87]],\"\n",
    "    \"    ID[\\\"EPSG\\\",9377]]\"\n",
    ")\n",
    "gdf.set_crs(crs_9377, inplace=True)\n",
    "\n",
    "# Guardar como Shapefile\n",
    "shapefile_path = dir9+Nombre+\".shp\"\n",
    "gdf.to_file(shapefile_path, driver='ESRI Shapefile')\n",
    "\n",
    "\n",
    "#Eliminar CSV\n",
    "for archivo in os.listdir(dir):\n",
    "    if archivo.endswith(\".csv\"):\n",
    "        archivo_path = os.path.join(dir, archivo)\n",
    "        os.remove(archivo_path)"
   ]
  },
  {
   "cell_type": "markdown",
   "metadata": {},
   "source": [
    "---"
   ]
  }
 ],
 "metadata": {
  "kernelspec": {
   "display_name": "entorno37_20240321",
   "language": "python",
   "name": "python3"
  },
  "language_info": {
   "codemirror_mode": {
    "name": "ipython",
    "version": 3
   },
   "file_extension": ".py",
   "mimetype": "text/x-python",
   "name": "python",
   "nbconvert_exporter": "python",
   "pygments_lexer": "ipython3",
   "version": "3.7.13"
  },
  "orig_nbformat": 4
 },
 "nbformat": 4,
 "nbformat_minor": 2
}
