{
 "cells": [
  {
   "cell_type": "code",
   "execution_count": 2,
   "metadata": {},
   "outputs": [],
   "source": [
    "#Read de original df for BASE\n",
    "import pandas as pd\n",
    "dir=r\"D:\\PROYECTOS 2023\\RENE\\Villagomez\"\n",
    "FRastreo=\"21/08/2023\"\n",
    "\n",
    "Dbase=dir+\"\\\\6.Reportes procesamiento\\\\procesamiento_Base.csv\"\n",
    "Dbase=pd.read_csv(Dbase,sep=',',skiprows=1,encoding='utf-16',thousands=\",\")\n",
    "Dbase.drop(columns=Dbase.columns[0],axis=1,inplace=True)\n"
   ]
  },
  {
   "cell_type": "code",
   "execution_count": 3,
   "metadata": {},
   "outputs": [],
   "source": [
    "#Read the average file\n",
    "Daverage=dir+\"\\\\6.Reportes procesamiento\\\\average.csv\"\n",
    "Daverage=pd.read_csv(Daverage,sep=',',skiprows=1,encoding='utf-16',thousands=\",\")\n"
   ]
  },
  {
   "cell_type": "code",
   "execution_count": 4,
   "metadata": {},
   "outputs": [],
   "source": [
    "#Read de original df for ROVER\n",
    "Drover=dir+\"\\\\6.Reportes procesamiento\\\\procesamiento.csv\"\n",
    "Drover=pd.read_csv(Drover,sep=',',skiprows=1,encoding='utf-16',thousands=\",\")\n",
    "Drover.drop(columns=Drover.columns[0],axis=1,inplace=True)\n"
   ]
  },
  {
   "cell_type": "code",
   "execution_count": 5,
   "metadata": {},
   "outputs": [],
   "source": [
    "#Dataframe XYZ in current epoch\n",
    "Dxyz0=Daverage[[\"Point Id\",\"WGS84 Cartesian X [m]\",\"WGS84 Cartesian Y [m]\",\"WGS84 Cartesian Z [m]\"]]\n",
    "Dxyz1=Drover[[\"Point Id\",\"WGS84 Cartesian X [m]\",\"WGS84 Cartesian Y [m]\",\"WGS84 Cartesian Z [m]\"]]\n",
    "Dxyz=Dxyz0.append(Dxyz1)\n",
    "Dxyz[\"F_Rastreo\"]=FRastreo;Dxyz[\"F_Ref\"]=\"01/01/2018\"\n",
    "Dxyz.rename(columns={'WGS84 Cartesian X [m]':'X','WGS84 Cartesian Y [m]':'Y','WGS84 Cartesian Z [m]':'Z'},inplace=True)\n",
    "Dxyz=Dxyz.reset_index(drop=True)\n",
    "Dxyz.to_csv(dir+\"\\\\8.Temp\\\\XYZ.csv\",index=False)"
   ]
  },
  {
   "cell_type": "code",
   "execution_count": 9,
   "metadata": {},
   "outputs": [
    {
     "data": {
      "text/html": [
       "<div>\n",
       "<style scoped>\n",
       "    .dataframe tbody tr th:only-of-type {\n",
       "        vertical-align: middle;\n",
       "    }\n",
       "\n",
       "    .dataframe tbody tr th {\n",
       "        vertical-align: top;\n",
       "    }\n",
       "\n",
       "    .dataframe thead th {\n",
       "        text-align: right;\n",
       "    }\n",
       "</style>\n",
       "<table border=\"1\" class=\"dataframe\">\n",
       "  <thead>\n",
       "    <tr style=\"text-align: right;\">\n",
       "      <th></th>\n",
       "      <th>Epoca</th>\n",
       "      <th>Epoca de referencia</th>\n",
       "      <th>Delta tiempo</th>\n",
       "    </tr>\n",
       "  </thead>\n",
       "  <tbody>\n",
       "    <tr>\n",
       "      <th>0</th>\n",
       "      <td>2023.647222</td>\n",
       "      <td>2018.0</td>\n",
       "      <td>5.647222</td>\n",
       "    </tr>\n",
       "  </tbody>\n",
       "</table>\n",
       "</div>"
      ],
      "text/plain": [
       "         Epoca  Epoca de referencia  Delta tiempo\n",
       "0  2023.647222               2018.0      5.647222"
      ]
     },
     "execution_count": 9,
     "metadata": {},
     "output_type": "execute_result"
    }
   ],
   "source": [
    "#Get Doy and DeltaT\n",
    "import gnsscal\n",
    "import  datetime\n",
    "from  datetime import timedelta\n",
    "fecha=FRastreo.split(\"/\")\n",
    "yy=int(fecha[2]);mm = int(fecha[1]);dd = int(fecha[0])\n",
    "fecha=datetime.date(yy,mm,dd)\n",
    "DoY=gnsscal.date2doy(fecha) #DoY\n",
    "Epoch=yy+(DoY/360) #Current Epoch\n",
    "dT=Epoch-2018.0 #Delta of Time\n",
    "dEpoch={\"Epoca\":[Epoch],\"Epoca de referencia\":[2018.0],\"Delta tiempo\":[dT]}\n",
    "dEpoch=pd.DataFrame(dEpoch) #Table Epoch\n",
    "dEpoch"
   ]
  },
  {
   "cell_type": "code",
   "execution_count": 7,
   "metadata": {},
   "outputs": [],
   "source": [
    "#Get Dataframe of XYZ 2018.0\n",
    "Dxyz20180=dir+\"\\\\8.Temp\\\\XYZ_20180.csv\"\n",
    "Dxyz20180=pd.read_csv(Dxyz20180)\n",
    "Dxyz20180=Dxyz20180[[\"ID\",\"X\",\"Y\",\"Z\"]];Dxyz20180.rename(columns={'X':'X 2018.0','Y':'Y 2018.0','Z':'Z 2018.0'},inplace=True)\n"
   ]
  },
  {
   "cell_type": "code",
   "execution_count": 8,
   "metadata": {},
   "outputs": [],
   "source": [
    "#Calculate Velocity XYZ\n",
    "D_Geo= pd.concat([Dxyz,Dxyz20180],axis=1)\n",
    "D_Geo=D_Geo[[\"ID\",\"X\",\"Y\",\"Z\",\"X 2018.0\",\"Y 2018.0\",\"Z 2018.0\"]]\n",
    "D_Geo[\"Vx\"]=((D_Geo[\"X\"]-D_Geo[\"X 2018.0\"])/dT)\n",
    "D_Geo[\"Vy\"]=((D_Geo[\"Y\"]-D_Geo[\"Y 2018.0\"])/dT)\n",
    "D_Geo[\"Vz\"]=((D_Geo[\"Z\"]-D_Geo[\"Z 2018.0\"])/dT)\n",
    "D_Geo=D_Geo[[\"ID\",\"X\",\"Y\",\"Z\",\"Vx\",\"Vy\",\"Vz\",\"X 2018.0\",\"Y 2018.0\",\"Z 2018.0\"]] #Dataframe Geocentric\n",
    "D_Geo.to_csv(dir+\"\\\\8.Temp\\\\D_Geo.csv\",index=False)"
   ]
  },
  {
   "cell_type": "code",
   "execution_count": 2,
   "metadata": {},
   "outputs": [
    {
     "name": "stdout",
     "output_type": "stream",
     "text": [
      "Top 20 archivos más pesados en el disco C:\n",
      "2.75 GB - F:/pagefile.sys\n",
      "0.27 GB - F:/Program Files (x86)\\Microsoft\\Edge\\Application\\133.0.3065.51\\msedge.dll\n",
      "0.27 GB - F:/Program Files (x86)\\Microsoft\\EdgeCore\\133.0.3065.51\\msedge.dll\n",
      "0.27 GB - F:/Program Files (x86)\\Microsoft\\Edge\\Application\\133.0.3065.59\\msedge.dll\n",
      "0.27 GB - F:/Program Files (x86)\\Microsoft\\EdgeCore\\133.0.3065.59\\msedge.dll\n",
      "0.27 GB - F:/Program Files (x86)\\Microsoft\\EdgeCore\\132.0.2957.140\\msedge.dll\n",
      "0.27 GB - F:/Program Files (x86)\\Microsoft\\EdgeWebView\\Application\\132.0.2957.140\\msedge.dll\n",
      "0.25 GB - F:/swapfile.sys\n",
      "0.21 GB - F:/ProgramData\\Package Cache\\{73B10333-EAE4-4D44-BC25-22607252B2AD}v3.2.1.3319\\Leica.Setup.Infinity.msi\n",
      "0.21 GB - F:/Windows\\Installer\\3e4e7.msi\n",
      "0.19 GB - F:/Windows\\System32\\MRT.exe\n",
      "0.11 GB - F:/Windows\\servicing\\LCU\\Package_for_RollupFix~31bf3856ad364e35~amd64~~19041.5247.1.14\\amd64_microsoft-windows-edgechromium_31bf3856ad364e35_10.0.19041.3636_none_7437336f112dbb3d\\edge.wim\n",
      "0.11 GB - F:/Windows\\servicing\\LCU\\Package_for_RollupFix~31bf3856ad364e35~amd64~~19041.5371.1.9\\amd64_microsoft-windows-edgechromium_31bf3856ad364e35_10.0.19041.3636_none_7437336f112dbb3d\\edge.wim\n",
      "0.11 GB - F:/Windows\\WinSxS\\amd64_microsoft-windows-edgechromium_31bf3856ad364e35_10.0.19041.1266_none_74657031110a9d30\\Edge.wim\n",
      "0.11 GB - F:/Windows\\WinSxS\\amd64_microsoft-windows-edgechromium_31bf3856ad364e35_10.0.19041.3636_none_7437336f112dbb3d\\Edge.wim\n",
      "0.09 GB - F:/ProgramData\\Microsoft\\Windows Defender\\Definition Updates\\Backup\\mpasbase.vdm\n",
      "0.09 GB - F:/ProgramData\\Microsoft\\Windows Defender\\Definition Updates\\{8AAA125D-EA51-4035-A443-C9F096EC47A3}\\mpasbase.vdm\n",
      "0.06 GB - F:/Program Files (x86)\\Google\\GoogleUpdater\\crx_cache\\{65e60e95-0de9-43ff-9f3f-4f7d2dff04b5}_1.e90295543cf3bc1668de03d6f4dff68dd24e42d00018cb531e38d67d4c232086\n",
      "0.06 GB - F:/Windows\\Installer\\6487792.msi\n",
      "0.06 GB - F:/ProgramData\\Leica Geosystems\\Infinity\\profiles\\default\\predefined.idb\n"
     ]
    }
   ],
   "source": [
    "import os\n",
    "from heapq import nlargest\n",
    "\n",
    "def get_largest_files(directory, num_files=20):\n",
    "    file_sizes = []\n",
    "    \n",
    "    for root, _, files in os.walk(directory):\n",
    "        for file in files:\n",
    "            file_path = os.path.join(root, file)\n",
    "            try:\n",
    "                file_size = os.path.getsize(file_path)\n",
    "                file_sizes.append((file_size, file_path))\n",
    "            except (OSError, PermissionError):\n",
    "                pass\n",
    "    \n",
    "    return nlargest(num_files, file_sizes, key=lambda x: x[0])\n",
    "\n",
    "if __name__ == \"__main__\":\n",
    "    disk = \"F:/\"\n",
    "    largest_files = get_largest_files(disk)\n",
    "    \n",
    "    print(\"Top 20 archivos más pesados en el disco C:\")\n",
    "    for size, path in largest_files:\n",
    "        print(f\"{size / (1024 ** 3):.2f} GB - {path}\")\n"
   ]
  }
 ],
 "metadata": {
  "kernelspec": {
   "display_name": "entorno37_20240321",
   "language": "python",
   "name": "python3"
  },
  "language_info": {
   "codemirror_mode": {
    "name": "ipython",
    "version": 3
   },
   "file_extension": ".py",
   "mimetype": "text/x-python",
   "name": "python",
   "nbconvert_exporter": "python",
   "pygments_lexer": "ipython3",
   "version": "3.7.13"
  },
  "orig_nbformat": 4
 },
 "nbformat": 4,
 "nbformat_minor": 2
}
